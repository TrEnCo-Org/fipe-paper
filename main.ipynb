{
 "cells": [
  {
   "cell_type": "code",
   "execution_count": 22,
   "metadata": {},
   "outputs": [
    {
     "data": {
      "text/html": [
       "<div>\n",
       "<style scoped>\n",
       "    .dataframe tbody tr th:only-of-type {\n",
       "        vertical-align: middle;\n",
       "    }\n",
       "\n",
       "    .dataframe tbody tr th {\n",
       "        vertical-align: top;\n",
       "    }\n",
       "\n",
       "    .dataframe thead th {\n",
       "        text-align: right;\n",
       "    }\n",
       "</style>\n",
       "<table border=\"1\" class=\"dataframe\">\n",
       "  <thead>\n",
       "    <tr style=\"text-align: right;\">\n",
       "      <th></th>\n",
       "      <th>dataset_id</th>\n",
       "      <th>dataset</th>\n",
       "      <th>n-trees</th>\n",
       "      <th>timestamp</th>\n",
       "      <th>fidelity</th>\n",
       "      <th>greedy-fidelities</th>\n",
       "    </tr>\n",
       "  </thead>\n",
       "  <tbody>\n",
       "    <tr>\n",
       "      <th>0</th>\n",
       "      <td>41703</td>\n",
       "      <td>mip-2016-classification</td>\n",
       "      <td>2</td>\n",
       "      <td>2024-05-01 20:49:05</td>\n",
       "      <td>0.795455</td>\n",
       "      <td>[0.5227272727272727, 0.5, 0.6136363636363636, ...</td>\n",
       "    </tr>\n",
       "    <tr>\n",
       "      <th>1</th>\n",
       "      <td>43672</td>\n",
       "      <td>heart-disease-dataset-(comprehensive)</td>\n",
       "      <td>2</td>\n",
       "      <td>2024-05-01 20:49:04</td>\n",
       "      <td>0.957983</td>\n",
       "      <td>[0.8487394957983193, 0.8445378151260504, 0.924...</td>\n",
       "    </tr>\n",
       "    <tr>\n",
       "      <th>2</th>\n",
       "      <td>45058</td>\n",
       "      <td>credit-g</td>\n",
       "      <td>4</td>\n",
       "      <td>2024-05-01 20:49:05</td>\n",
       "      <td>0.920000</td>\n",
       "      <td>[0.775, 0.605, 0.815, 0.76, 0.865, 0.83, 0.835...</td>\n",
       "    </tr>\n",
       "    <tr>\n",
       "      <th>3</th>\n",
       "      <td>43098</td>\n",
       "      <td>students-scores</td>\n",
       "      <td>6</td>\n",
       "      <td>2024-05-01 20:49:04</td>\n",
       "      <td>0.820000</td>\n",
       "      <td>[0.62, 0.66, 0.73, 0.74, 0.705, 0.735, 0.79, 0...</td>\n",
       "    </tr>\n",
       "    <tr>\n",
       "      <th>4</th>\n",
       "      <td>44</td>\n",
       "      <td>spambase</td>\n",
       "      <td>6</td>\n",
       "      <td>2024-05-01 20:49:06</td>\n",
       "      <td>0.977199</td>\n",
       "      <td>[0.8675352877307275, 0.8925081433224755, 0.905...</td>\n",
       "    </tr>\n",
       "  </tbody>\n",
       "</table>\n",
       "</div>"
      ],
      "text/plain": [
       "   dataset_id                                dataset  n-trees  \\\n",
       "0       41703                mip-2016-classification        2   \n",
       "1       43672  heart-disease-dataset-(comprehensive)        2   \n",
       "2       45058                               credit-g        4   \n",
       "3       43098                        students-scores        6   \n",
       "4          44                               spambase        6   \n",
       "\n",
       "            timestamp  fidelity  \\\n",
       "0 2024-05-01 20:49:05  0.795455   \n",
       "1 2024-05-01 20:49:04  0.957983   \n",
       "2 2024-05-01 20:49:05  0.920000   \n",
       "3 2024-05-01 20:49:04  0.820000   \n",
       "4 2024-05-01 20:49:06  0.977199   \n",
       "\n",
       "                                   greedy-fidelities  \n",
       "0  [0.5227272727272727, 0.5, 0.6136363636363636, ...  \n",
       "1  [0.8487394957983193, 0.8445378151260504, 0.924...  \n",
       "2  [0.775, 0.605, 0.815, 0.76, 0.865, 0.83, 0.835...  \n",
       "3  [0.62, 0.66, 0.73, 0.74, 0.705, 0.735, 0.79, 0...  \n",
       "4  [0.8675352877307275, 0.8925081433224755, 0.905...  "
      ]
     },
     "execution_count": 22,
     "metadata": {},
     "output_type": "execute_result"
    }
   ],
   "source": [
    "import joblib as jl\n",
    "import numpy as np\n",
    "\n",
    "import matplotlib.pyplot as plt\n",
    "# Load the \"prune.pkl\" file\n",
    "with open(\"prune.pkl\", \"rb\") as f:\n",
    "    data = jl.load(f)\n",
    "import pandas as pd\n",
    "# Create a DataFrame from the data\n",
    "df = pd.DataFrame(data)\n",
    "# Transform the timestamp column to a datetime object\n",
    "df[\"timestamp\"] = pd.to_datetime(df[\"timestamp\"], format=\"%Y%m%d%H%M%S\")\n",
    "groups = df.groupby(\"dataset\")\n",
    "\n",
    "df.head()\n"
   ]
  },
  {
   "cell_type": "code",
   "execution_count": 34,
   "metadata": {},
   "outputs": [
    {
     "data": {
      "image/png": "[encoded data removed]",
      "text/plain": [
       "<Figure size 640x480 with 1 Axes>"
      ]
     },
     "metadata": {},
     "output_type": "display_data"
    }
   ],
   "source": [
    "df2 = groups.agg({'timestamp': 'max'}).reset_index()\n",
    "\n",
    "df3 = df.merge(df2, on=['dataset', 'timestamp'])\n",
    "df3 = df3.sort_values(by=['timestamp', 'dataset'], ascending=[False, True])\n",
    "df3 = df3.reset_index(drop=True)\n",
    "df3\n",
    "\n",
    "df3[df3['dataset'] == 45068]\n",
    "\n",
    "y = df3['greedy-fidelities'][0]\n",
    "\n",
    "x = np.arange(1, len(y)+1)\n",
    "plt.plot(x, y)\n",
    "xa = df3['n-trees'][0]\n",
    "ya = df3['fidelity'][0]\n",
    "\n",
    "plt.scatter(xa, ya, color='red')\n",
    "\n",
    "plt.show()"
   ]
  },
  {
   "cell_type": "code",
   "execution_count": 38,
   "metadata": {},
   "outputs": [
    {
     "name": "stdout",
     "output_type": "stream",
     "text": [
      "0\n"
     ]
    }
   ],
   "source": [
    "import pandas as pd\n",
    "\n",
    "df = pd.DataFrame([], columns=[\"dataset\", \"timestamp\", \"n-trees\", \"fidelity\", \"greedy-fidelities\"])\n",
    "\n",
    "print(len(df))"
   ]
  }
 ],
 "metadata": {
  "kernelspec": {
   "display_name": "fipe-paper",
   "language": "python",
   "name": "python3"
  },
  "language_info": {
   "codemirror_mode": {
    "name": "ipython",
    "version": 3
   },
   "file_extension": ".py",
   "mimetype": "text/x-python",
   "name": "python",
   "nbconvert_exporter": "python",
   "pygments_lexer": "ipython3",
   "version": "3.10.14"
  }
 },
 "nbformat": 4,
 "nbformat_minor": 2
}
